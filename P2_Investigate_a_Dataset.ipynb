{
 "cells": [
  {
   "cell_type": "markdown",
   "metadata": {
    "collapsed": true
   },
   "source": [
    "# Data Analyst Nanodegree\n",
    "\n",
    "## Project 2:  Investigate a Dataset\n",
    "## Titanic Data - Who Survived the Sinking of the Titanic and Why?\n",
    "\n",
    "In this project, we will explore and investigate the dataset related to the survival of passengers on the RMS Titanic as it sank on the morning of April 15, 1912."
   ]
  },
  {
   "cell_type": "markdown",
   "metadata": {},
   "source": [
    "## Loading the Data\n",
    "\n",
    "We will use a DataFrame from the pandas library to load the comma separated value (csv) file associated with the Titanic survival data."
   ]
  },
  {
   "cell_type": "code",
   "execution_count": 29,
   "metadata": {
    "collapsed": true
   },
   "outputs": [],
   "source": [
    "# important imports\n",
    "\n",
    "import pandas as pd\n",
    "import numpy as np\n",
    "\n",
    "# display\n",
    "from IPython.display import display\n",
    "pd.set_option('display.max_columns', None)\n",
    "pd.set_option('display.max_rows', None)\n",
    "\n",
    "# plotting and visualization\n",
    "import matplotlib.pyplot as plt\n",
    "%matplotlib inline\n",
    "\n",
    "import seaborn as sns"
   ]
  },
  {
   "cell_type": "code",
   "execution_count": 30,
   "metadata": {
    "collapsed": false
   },
   "outputs": [
    {
     "data": {
      "text/html": [
       "<div>\n",
       "<table border=\"1\" class=\"dataframe\">\n",
       "  <thead>\n",
       "    <tr style=\"text-align: right;\">\n",
       "      <th></th>\n",
       "      <th>PassengerId</th>\n",
       "      <th>Survived</th>\n",
       "      <th>Pclass</th>\n",
       "      <th>Name</th>\n",
       "      <th>Sex</th>\n",
       "      <th>Age</th>\n",
       "      <th>SibSp</th>\n",
       "      <th>Parch</th>\n",
       "      <th>Ticket</th>\n",
       "      <th>Fare</th>\n",
       "      <th>Cabin</th>\n",
       "      <th>Embarked</th>\n",
       "    </tr>\n",
       "  </thead>\n",
       "  <tbody>\n",
       "    <tr>\n",
       "      <th>0</th>\n",
       "      <td>1</td>\n",
       "      <td>0</td>\n",
       "      <td>3</td>\n",
       "      <td>Braund, Mr. Owen Harris</td>\n",
       "      <td>male</td>\n",
       "      <td>22.0</td>\n",
       "      <td>1</td>\n",
       "      <td>0</td>\n",
       "      <td>A/5 21171</td>\n",
       "      <td>7.2500</td>\n",
       "      <td>NaN</td>\n",
       "      <td>S</td>\n",
       "    </tr>\n",
       "    <tr>\n",
       "      <th>1</th>\n",
       "      <td>2</td>\n",
       "      <td>1</td>\n",
       "      <td>1</td>\n",
       "      <td>Cumings, Mrs. John Bradley (Florence Briggs Th...</td>\n",
       "      <td>female</td>\n",
       "      <td>38.0</td>\n",
       "      <td>1</td>\n",
       "      <td>0</td>\n",
       "      <td>PC 17599</td>\n",
       "      <td>71.2833</td>\n",
       "      <td>C85</td>\n",
       "      <td>C</td>\n",
       "    </tr>\n",
       "    <tr>\n",
       "      <th>2</th>\n",
       "      <td>3</td>\n",
       "      <td>1</td>\n",
       "      <td>3</td>\n",
       "      <td>Heikkinen, Miss. Laina</td>\n",
       "      <td>female</td>\n",
       "      <td>26.0</td>\n",
       "      <td>0</td>\n",
       "      <td>0</td>\n",
       "      <td>STON/O2. 3101282</td>\n",
       "      <td>7.9250</td>\n",
       "      <td>NaN</td>\n",
       "      <td>S</td>\n",
       "    </tr>\n",
       "    <tr>\n",
       "      <th>3</th>\n",
       "      <td>4</td>\n",
       "      <td>1</td>\n",
       "      <td>1</td>\n",
       "      <td>Futrelle, Mrs. Jacques Heath (Lily May Peel)</td>\n",
       "      <td>female</td>\n",
       "      <td>35.0</td>\n",
       "      <td>1</td>\n",
       "      <td>0</td>\n",
       "      <td>113803</td>\n",
       "      <td>53.1000</td>\n",
       "      <td>C123</td>\n",
       "      <td>S</td>\n",
       "    </tr>\n",
       "    <tr>\n",
       "      <th>4</th>\n",
       "      <td>5</td>\n",
       "      <td>0</td>\n",
       "      <td>3</td>\n",
       "      <td>Allen, Mr. William Henry</td>\n",
       "      <td>male</td>\n",
       "      <td>35.0</td>\n",
       "      <td>0</td>\n",
       "      <td>0</td>\n",
       "      <td>373450</td>\n",
       "      <td>8.0500</td>\n",
       "      <td>NaN</td>\n",
       "      <td>S</td>\n",
       "    </tr>\n",
       "  </tbody>\n",
       "</table>\n",
       "</div>"
      ],
      "text/plain": [
       "   PassengerId  Survived  Pclass  \\\n",
       "0            1         0       3   \n",
       "1            2         1       1   \n",
       "2            3         1       3   \n",
       "3            4         1       1   \n",
       "4            5         0       3   \n",
       "\n",
       "                                                Name     Sex   Age  SibSp  \\\n",
       "0                            Braund, Mr. Owen Harris    male  22.0      1   \n",
       "1  Cumings, Mrs. John Bradley (Florence Briggs Th...  female  38.0      1   \n",
       "2                             Heikkinen, Miss. Laina  female  26.0      0   \n",
       "3       Futrelle, Mrs. Jacques Heath (Lily May Peel)  female  35.0      1   \n",
       "4                           Allen, Mr. William Henry    male  35.0      0   \n",
       "\n",
       "   Parch            Ticket     Fare Cabin Embarked  \n",
       "0      0         A/5 21171   7.2500   NaN        S  \n",
       "1      0          PC 17599  71.2833   C85        C  \n",
       "2      0  STON/O2. 3101282   7.9250   NaN        S  \n",
       "3      0            113803  53.1000  C123        S  \n",
       "4      0            373450   8.0500   NaN        S  "
      ]
     },
     "metadata": {},
     "output_type": "display_data"
    }
   ],
   "source": [
    "# Load the data\n",
    "titanic_df = pd.read_csv('titanic-data.csv')\n",
    "\n",
    "display(titanic_df.head())"
   ]
  },
  {
   "cell_type": "code",
   "execution_count": 31,
   "metadata": {
    "collapsed": false
   },
   "outputs": [
    {
     "data": {
      "text/plain": [
       "PassengerId      int64\n",
       "Survived         int64\n",
       "Pclass           int64\n",
       "Name            object\n",
       "Sex             object\n",
       "Age            float64\n",
       "SibSp            int64\n",
       "Parch            int64\n",
       "Ticket          object\n",
       "Fare           float64\n",
       "Cabin           object\n",
       "Embarked        object\n",
       "dtype: object"
      ]
     },
     "execution_count": 31,
     "metadata": {},
     "output_type": "execute_result"
    }
   ],
   "source": [
    "titanic_df.dtypes"
   ]
  },
  {
   "cell_type": "markdown",
   "metadata": {},
   "source": [
    "## Begin Exploration\n",
    "\n",
    "From the kaggle website, we have the definitions of each of the variables:\n",
    "\n",
    "**VARIABLE DESCRIPTIONS**:\n",
    "- survival: Survival (0 = No; 1 = Yes)\n",
    "- pclass: Passenger Class (1 = 1st; 2 = 2nd; 3 = 3rd)\n",
    "- name: Name\n",
    "- sex: Sex\n",
    "- age: Age\n",
    "- sibsp: Number of Siblings/Spouses Aboard\n",
    "- parch: Number of Parents/Children Aboard\n",
    "- ticket: Ticket Number\n",
    "- fare: Passenger Fare\n",
    "- cabin: Cabin\n",
    "- embarked: Port of Embarkation (C = Cherbourg; Q = Queenstown; S = Southampton)\n",
    "\n",
    "(For whatever reason these don't line up exactly with the names of our column headers, but we get the idea.)\n",
    "\n",
    "### Questions \n",
    "\n",
    "What do we expect to determine the survival of passengers on the Titanic? We might start by predicting that women and children are more likely to have survived than men because of the traditional policy of getting women and children to safety first. This yields the following questions:\n",
    "\n",
    "- How does gender affect passenger survival? (variable Sex)\n",
    "- How does age affect passenger survival? (variable Age)\n",
    "\n",
    "\n",
    "We might also cynically guess that more 1st class passengers would have been more likely to survive because they were able to take advantage of their wealth to curry special favor. It's not clear that this would be the case in such a drastic crisis situation and it is also not immediately obvious to me that first class passenger quarters would have been better positioned for escape. This might be an interesting question to resolve.\n",
    "\n",
    "- How does socioeconomic class affect passenger survival? (variables Pclass and Fare)\n",
    "\n",
    "This gives us one dependent variable (Survived) and four independent variables (Sex, Age, Pclass, Fare).\n",
    "\n"
   ]
  },
  {
   "cell_type": "markdown",
   "metadata": {},
   "source": [
    "## Cleaning the Data"
   ]
  },
  {
   "cell_type": "code",
   "execution_count": 32,
   "metadata": {
    "collapsed": false
   },
   "outputs": [
    {
     "data": {
      "text/html": [
       "<div>\n",
       "<table border=\"1\" class=\"dataframe\">\n",
       "  <thead>\n",
       "    <tr style=\"text-align: right;\">\n",
       "      <th></th>\n",
       "      <th>PassengerId</th>\n",
       "      <th>Survived</th>\n",
       "      <th>Pclass</th>\n",
       "      <th>Sex</th>\n",
       "      <th>Age</th>\n",
       "      <th>Fare</th>\n",
       "    </tr>\n",
       "  </thead>\n",
       "  <tbody>\n",
       "    <tr>\n",
       "      <th>0</th>\n",
       "      <td>1</td>\n",
       "      <td>0</td>\n",
       "      <td>3</td>\n",
       "      <td>male</td>\n",
       "      <td>22.0</td>\n",
       "      <td>7.2500</td>\n",
       "    </tr>\n",
       "    <tr>\n",
       "      <th>1</th>\n",
       "      <td>2</td>\n",
       "      <td>1</td>\n",
       "      <td>1</td>\n",
       "      <td>female</td>\n",
       "      <td>38.0</td>\n",
       "      <td>71.2833</td>\n",
       "    </tr>\n",
       "    <tr>\n",
       "      <th>2</th>\n",
       "      <td>3</td>\n",
       "      <td>1</td>\n",
       "      <td>3</td>\n",
       "      <td>female</td>\n",
       "      <td>26.0</td>\n",
       "      <td>7.9250</td>\n",
       "    </tr>\n",
       "    <tr>\n",
       "      <th>3</th>\n",
       "      <td>4</td>\n",
       "      <td>1</td>\n",
       "      <td>1</td>\n",
       "      <td>female</td>\n",
       "      <td>35.0</td>\n",
       "      <td>53.1000</td>\n",
       "    </tr>\n",
       "    <tr>\n",
       "      <th>4</th>\n",
       "      <td>5</td>\n",
       "      <td>0</td>\n",
       "      <td>3</td>\n",
       "      <td>male</td>\n",
       "      <td>35.0</td>\n",
       "      <td>8.0500</td>\n",
       "    </tr>\n",
       "  </tbody>\n",
       "</table>\n",
       "</div>"
      ],
      "text/plain": [
       "   PassengerId  Survived  Pclass     Sex   Age     Fare\n",
       "0            1         0       3    male  22.0   7.2500\n",
       "1            2         1       1  female  38.0  71.2833\n",
       "2            3         1       3  female  26.0   7.9250\n",
       "3            4         1       1  female  35.0  53.1000\n",
       "4            5         0       3    male  35.0   8.0500"
      ]
     },
     "metadata": {},
     "output_type": "display_data"
    }
   ],
   "source": [
    "# Remove the columns with data we have decided is irrelevant. \n",
    "del titanic_df['Name']\n",
    "del titanic_df['Ticket']\n",
    "del titanic_df['Cabin']\n",
    "del titanic_df['Embarked']\n",
    "del titanic_df['SibSp']\n",
    "del titanic_df['Parch']\n",
    "\n",
    "display(titanic_df.head())"
   ]
  },
  {
   "cell_type": "code",
   "execution_count": 33,
   "metadata": {
    "collapsed": false
   },
   "outputs": [
    {
     "data": {
      "text/plain": [
       "PassengerId      int64\n",
       "Survived         int64\n",
       "Pclass           int64\n",
       "Sex             object\n",
       "Age            float64\n",
       "Fare           float64\n",
       "dtype: object"
      ]
     },
     "execution_count": 33,
     "metadata": {},
     "output_type": "execute_result"
    }
   ],
   "source": [
    "titanic_df.dtypes"
   ]
  },
  {
   "cell_type": "markdown",
   "metadata": {},
   "source": [
    "##  How did gender affect the survival of the passengers?\n",
    "\n",
    "I'm interested in what percentage of women survived compared to what percentage of men survived. It turns out this is not particularly difficult to do, we just divide the number of females who survived by the total number of females and divide the number of males who survived by the total number of males and compare those two numbers."
   ]
  },
  {
   "cell_type": "code",
   "execution_count": 34,
   "metadata": {
    "collapsed": false
   },
   "outputs": [
    {
     "name": "stdout",
     "output_type": "stream",
     "text": [
      "\n",
      "Percent Survived\n",
      "female    0.742038\n",
      "male      0.188908\n",
      "dtype: float64\n"
     ]
    }
   ],
   "source": [
    "print '\\nPercent Survived\\n', titanic_df.groupby('Sex')['Survived'].sum() / titanic_df['Sex'].value_counts()"
   ]
  },
  {
   "cell_type": "markdown",
   "metadata": {},
   "source": [
    "This supports our hypothesis that women were more likely to survive. Almost 75% of the females survived whereas not even 20% of the males survived. It helps to take these numbers in the context of the actual numbers of male and femal passengers:"
   ]
  },
  {
   "cell_type": "code",
   "execution_count": 35,
   "metadata": {
    "collapsed": false
   },
   "outputs": [],
   "source": [
    "total = titanic_df['Sex'].value_counts()\n",
    "survivors = titanic_df.groupby('Sex')['Survived'].sum()\n",
    "casualties = total - survivors"
   ]
  },
  {
   "cell_type": "code",
   "execution_count": 36,
   "metadata": {
    "collapsed": false
   },
   "outputs": [
    {
     "name": "stdout",
     "output_type": "stream",
     "text": [
      "Total Passengers\n",
      "male      577\n",
      "female    314\n",
      "Name: Sex, dtype: int64\n",
      "\n",
      "Survivors\n",
      "Sex\n",
      "female    233\n",
      "male      109\n",
      "Name: Survived, dtype: int64\n",
      "\n",
      "Casualties\n",
      "female     81\n",
      "male      468\n",
      "dtype: int64\n"
     ]
    }
   ],
   "source": [
    "print 'Total Passengers\\n', total\n",
    "print '\\nSurvivors\\n', survivors\n",
    "print '\\nCasualties\\n', casualties"
   ]
  },
  {
   "cell_type": "code",
   "execution_count": 37,
   "metadata": {
    "collapsed": false
   },
   "outputs": [
    {
     "name": "stdout",
     "output_type": "stream",
     "text": [
      "female    314\n",
      "male      577\n",
      "Name: Sex, dtype: int64\n"
     ]
    }
   ],
   "source": [
    "# Rows in total need to be swapped\n",
    "total.sort_values(inplace=True)\n",
    "print total"
   ]
  },
  {
   "cell_type": "markdown",
   "metadata": {},
   "source": [
    "### Visualizations\n",
    "\n",
    "Here is a bar graph showing total passengers (yellow) and survivors (blue) of each gender."
   ]
  },
  {
   "cell_type": "code",
   "execution_count": 38,
   "metadata": {
    "collapsed": false
   },
   "outputs": [
    {
     "data": {
      "text/plain": [
       "<matplotlib.axes._subplots.AxesSubplot at 0x11e3a0dd0>"
      ]
     },
     "execution_count": 38,
     "metadata": {},
     "output_type": "execute_result"
    },
    {
     "data": {
      "image/png": "[encoded data removed]",
      "text/plain": [
       "<matplotlib.figure.Figure at 0x119cd3050>"
      ]
     },
     "metadata": {},
     "output_type": "display_data"
    }
   ],
   "source": [
    "total.plot(kind='bar', color='y', title = 'Survivors by Gender').set_ylabel('Passenger Count - Yellow, Survivor Count - Blue')\n",
    "survivors.plot(kind='bar')"
   ]
  },
  {
   "cell_type": "markdown",
   "metadata": {},
   "source": [
    "Here is a boxplot demonstrating the logarithmically adjusted fare for each gender. The women are interestingly more likely to have paid more for their tickets."
   ]
  },
  {
   "cell_type": "code",
   "execution_count": 39,
   "metadata": {
    "collapsed": false
   },
   "outputs": [
    {
     "data": {
      "image/png": "[encoded data removed]",
      "text/plain": [
       "<matplotlib.figure.Figure at 0x11df3a590>"
      ]
     },
     "metadata": {},
     "output_type": "display_data"
    }
   ],
   "source": [
    "titanic_df.boxplot(column = ['Fare'], by = ['Sex']).set_yscale('log')"
   ]
  },
  {
   "cell_type": "markdown",
   "metadata": {},
   "source": [
    "## How did age affect the survival of the passengers?\n",
    "\n",
    "Our hypothesis is that efforts would have been made to save women and children first and thus passengers falling into younger age groups would be more likely to survive. In order to determine this it will be helpful to create age group categories and determine into which one each passenger falls. Let's use the following:\n",
    "\n",
    "- Infant: 1 year old or less\n",
    "- Toddler: 2 or 3 years old\n",
    "- Child: 4 to 12 years old\n",
    "- Adolescent: 13 to 18 years old\n",
    "- Adult: 19 to 60 years old\n",
    "- Senior: Above 60 years old"
   ]
  },
  {
   "cell_type": "code",
   "execution_count": 40,
   "metadata": {
    "collapsed": false
   },
   "outputs": [
    {
     "data": {
      "text/html": [
       "<div>\n",
       "<table border=\"1\" class=\"dataframe\">\n",
       "  <thead>\n",
       "    <tr style=\"text-align: right;\">\n",
       "      <th></th>\n",
       "      <th>PassengerId</th>\n",
       "      <th>Survived</th>\n",
       "      <th>Pclass</th>\n",
       "      <th>Sex</th>\n",
       "      <th>Age</th>\n",
       "      <th>Fare</th>\n",
       "      <th>AgeGroup</th>\n",
       "    </tr>\n",
       "  </thead>\n",
       "  <tbody>\n",
       "    <tr>\n",
       "      <th>0</th>\n",
       "      <td>1</td>\n",
       "      <td>0</td>\n",
       "      <td>3</td>\n",
       "      <td>male</td>\n",
       "      <td>22.0</td>\n",
       "      <td>7.2500</td>\n",
       "      <td>5. Adult (19-60)</td>\n",
       "    </tr>\n",
       "    <tr>\n",
       "      <th>1</th>\n",
       "      <td>2</td>\n",
       "      <td>1</td>\n",
       "      <td>1</td>\n",
       "      <td>female</td>\n",
       "      <td>38.0</td>\n",
       "      <td>71.2833</td>\n",
       "      <td>5. Adult (19-60)</td>\n",
       "    </tr>\n",
       "    <tr>\n",
       "      <th>2</th>\n",
       "      <td>3</td>\n",
       "      <td>1</td>\n",
       "      <td>3</td>\n",
       "      <td>female</td>\n",
       "      <td>26.0</td>\n",
       "      <td>7.9250</td>\n",
       "      <td>5. Adult (19-60)</td>\n",
       "    </tr>\n",
       "    <tr>\n",
       "      <th>3</th>\n",
       "      <td>4</td>\n",
       "      <td>1</td>\n",
       "      <td>1</td>\n",
       "      <td>female</td>\n",
       "      <td>35.0</td>\n",
       "      <td>53.1000</td>\n",
       "      <td>5. Adult (19-60)</td>\n",
       "    </tr>\n",
       "    <tr>\n",
       "      <th>4</th>\n",
       "      <td>5</td>\n",
       "      <td>0</td>\n",
       "      <td>3</td>\n",
       "      <td>male</td>\n",
       "      <td>35.0</td>\n",
       "      <td>8.0500</td>\n",
       "      <td>5. Adult (19-60)</td>\n",
       "    </tr>\n",
       "  </tbody>\n",
       "</table>\n",
       "</div>"
      ],
      "text/plain": [
       "   PassengerId  Survived  Pclass     Sex   Age     Fare          AgeGroup\n",
       "0            1         0       3    male  22.0   7.2500  5. Adult (19-60)\n",
       "1            2         1       1  female  38.0  71.2833  5. Adult (19-60)\n",
       "2            3         1       3  female  26.0   7.9250  5. Adult (19-60)\n",
       "3            4         1       1  female  35.0  53.1000  5. Adult (19-60)\n",
       "4            5         0       3    male  35.0   8.0500  5. Adult (19-60)"
      ]
     },
     "metadata": {},
     "output_type": "display_data"
    }
   ],
   "source": [
    "def age_group(age):\n",
    "    if age <= 0.0:\n",
    "        # After looking through the data we see that this case will not actually occur in our dataset\n",
    "        return 'Error: Age Less Than Zero'\n",
    "    elif age <= 1.0:\n",
    "        return '1. Infant (0-1)'\n",
    "    elif age <= 3.0:\n",
    "        return '2. Toddler (2-3)'\n",
    "    elif age <= 12.0:\n",
    "        return '3. Child (4-12)'\n",
    "    elif age <= 18.0:\n",
    "        return '4. Adolescent (13-18)'\n",
    "    elif age <= 60.0:\n",
    "        return '5. Adult (19-60)'\n",
    "    elif age > 60.0:\n",
    "        return '6. Senior (>60)'\n",
    "    else:\n",
    "        # After looking through the data we see that this case will only occur on NaN entries\n",
    "        return 'No Age Reported'\n",
    "\n",
    "# Add a new column for the age group of the passenger\n",
    "titanic_df['AgeGroup'] = titanic_df['Age'].apply(age_group) \n",
    "\n",
    "display(titanic_df.head())"
   ]
  },
  {
   "cell_type": "markdown",
   "metadata": {},
   "source": [
    "### What is the likelihood of survival for each age group?"
   ]
  },
  {
   "cell_type": "code",
   "execution_count": 41,
   "metadata": {
    "collapsed": false
   },
   "outputs": [
    {
     "name": "stdout",
     "output_type": "stream",
     "text": [
      "AgeGroup\n",
      "1. Infant (0-1)          0.857143\n",
      "2. Toddler (2-3)         0.500000\n",
      "3. Child (4-12)          0.512821\n",
      "4. Adolescent (13-18)    0.428571\n",
      "5. Adult (19-60)         0.388788\n",
      "6. Senior (>60)          0.227273\n",
      "No Age Reported          0.293785\n",
      "Name: Survived, dtype: float64\n"
     ]
    }
   ],
   "source": [
    "# Taking the mean here effectively reveals the likelihood of survival for members of each age group.\n",
    "likelihood_ag = titanic_df.groupby('AgeGroup')['Survived'].mean()\n",
    "print likelihood_ag"
   ]
  },
  {
   "cell_type": "markdown",
   "metadata": {},
   "source": [
    "We can see above that members of younger age groups are more likely to survive. Seniors were the least likely to survive. This supports our hypothesis that younger passengers, particularly children, toddlers and infants would be given priority over seniors, adults and adolescents.\n",
    "\n",
    "Interestingly, those for whom the age is not known were even less likely to survive than adults. This could be explained by the possibility that their information may have been harder to find since they were dead. It might also be that it may have been harder to find information on exact age from members of the lower economic class. This would be an interesting avenue for inquiry.\n",
    "\n",
    "Of course, it's important to take these results in the context of the actual numbers of people from each age group present."
   ]
  },
  {
   "cell_type": "code",
   "execution_count": 42,
   "metadata": {
    "collapsed": false
   },
   "outputs": [
    {
     "name": "stdout",
     "output_type": "stream",
     "text": [
      "5. Adult (19-60)         553\n",
      "No Age Reported          177\n",
      "4. Adolescent (13-18)     70\n",
      "3. Child (4-12)           39\n",
      "6. Senior (>60)           22\n",
      "2. Toddler (2-3)          16\n",
      "1. Infant (0-1)           14\n",
      "Name: AgeGroup, dtype: int64\n"
     ]
    }
   ],
   "source": [
    "count_ag = titanic_df['AgeGroup'].value_counts()\n",
    "print count_ag"
   ]
  },
  {
   "cell_type": "code",
   "execution_count": 43,
   "metadata": {
    "collapsed": false
   },
   "outputs": [
    {
     "name": "stdout",
     "output_type": "stream",
     "text": [
      "1. Infant (0-1)           14\n",
      "2. Toddler (2-3)          16\n",
      "3. Child (4-12)           39\n",
      "4. Adolescent (13-18)     70\n",
      "5. Adult (19-60)         553\n",
      "6. Senior (>60)           22\n",
      "No Age Reported          177\n",
      "Name: AgeGroup, dtype: int64\n"
     ]
    }
   ],
   "source": [
    "#The count_ag series needs to be re-ordered and properly sorted in order to show up properly in a bar graph\n",
    "count_ag.sort_index(inplace=True)\n",
    "print count_ag"
   ]
  },
  {
   "cell_type": "markdown",
   "metadata": {},
   "source": [
    "Notice that adults make up the overwhelming majority of passengers and those with no information available regarding there age are also well represented."
   ]
  },
  {
   "cell_type": "markdown",
   "metadata": {},
   "source": [
    "### Visualizations\n",
    "\n",
    "Here is a bar graph showing total passengers (yellow) and survivors (blue) in each age group."
   ]
  },
  {
   "cell_type": "code",
   "execution_count": 44,
   "metadata": {
    "collapsed": false
   },
   "outputs": [
    {
     "data": {
      "text/plain": [
       "<matplotlib.axes._subplots.AxesSubplot at 0x11f179610>"
      ]
     },
     "execution_count": 44,
     "metadata": {},
     "output_type": "execute_result"
    },
    {
     "data": {
      "image/png": "[encoded data removed]",
      "text/plain": [
       "<matplotlib.figure.Figure at 0x11f05dd50>"
      ]
     },
     "metadata": {},
     "output_type": "display_data"
    }
   ],
   "source": [
    "count_ag.plot(kind='bar',color='y',title='Survivors by Age Group').set_ylabel('Passenger Count - Yellow, Survivor Count - Blue')\n",
    "titanic_df.groupby('AgeGroup')['Survived'].sum().plot(kind='bar')"
   ]
  },
  {
   "cell_type": "markdown",
   "metadata": {},
   "source": [
    "Following is a histogram showing the distribution of passengers by age."
   ]
  },
  {
   "cell_type": "code",
   "execution_count": 45,
   "metadata": {
    "collapsed": false
   },
   "outputs": [
    {
     "data": {
      "text/plain": [
       "<matplotlib.text.Text at 0x11f4c8bd0>"
      ]
     },
     "execution_count": 45,
     "metadata": {},
     "output_type": "execute_result"
    },
    {
     "data": {
      "image/png": "[encoded data removed]",
      "text/plain": [
       "<matplotlib.figure.Figure at 0x11f41f690>"
      ]
     },
     "metadata": {},
     "output_type": "display_data"
    }
   ],
   "source": [
    "age_hist = titanic_df['Age'].hist()\n",
    "age_hist.set_ylabel('Number of Passengers')\n",
    "age_hist.set_xlabel('Age')\n",
    "age_hist.set_title('Passengers at each Age')"
   ]
  },
  {
   "cell_type": "markdown",
   "metadata": {},
   "source": [
    "Next is a boxplot depicting the age for passengers who survived and passengers who didn't (1 survived, 0 died). Survivors tended to be slightly younger."
   ]
  },
  {
   "cell_type": "code",
   "execution_count": 46,
   "metadata": {
    "collapsed": false
   },
   "outputs": [
    {
     "data": {
      "text/plain": [
       "<matplotlib.axes._subplots.AxesSubplot at 0x11f5c3190>"
      ]
     },
     "execution_count": 46,
     "metadata": {},
     "output_type": "execute_result"
    },
    {
     "data": {
      "image/png": "[encoded data removed]",
      "text/plain": [
       "<matplotlib.figure.Figure at 0x11f5cde50>"
      ]
     },
     "metadata": {},
     "output_type": "display_data"
    }
   ],
   "source": [
    "titanic_df.boxplot(column = ['Age'], by = ['Survived'])"
   ]
  },
  {
   "cell_type": "markdown",
   "metadata": {},
   "source": [
    "### Descriptive Statistics Regarding Age and Survival"
   ]
  },
  {
   "cell_type": "code",
   "execution_count": 47,
   "metadata": {
    "collapsed": false
   },
   "outputs": [
    {
     "name": "stdout",
     "output_type": "stream",
     "text": [
      "Average Age\n",
      "Survived\n",
      "0    30.626179\n",
      "1    28.343690\n",
      "Name: Age, dtype: float64\n",
      "\n",
      "Median Age\n",
      "Survived\n",
      "0    28.0\n",
      "1    28.0\n",
      "Name: Age, dtype: float64\n",
      "\n",
      "Standard Deviation\n",
      "Survived\n",
      "0    14.172110\n",
      "1    14.950952\n",
      "Name: Age, dtype: float64\n",
      "\n",
      "Minimum Age\n",
      "Survived\n",
      "0    1.00\n",
      "1    0.42\n",
      "Name: Age, dtype: float64\n",
      "\n",
      "Maximum Age\n",
      "Survived\n",
      "0    74.0\n",
      "1    80.0\n",
      "Name: Age, dtype: float64\n"
     ]
    }
   ],
   "source": [
    "print 'Average Age\\n', titanic_df.groupby('Survived')['Age'].mean()\n",
    "print '\\nMedian Age\\n', titanic_df.groupby('Survived')['Age'].median()\n",
    "print '\\nStandard Deviation\\n', titanic_df.groupby('Survived')['Age'].std()\n",
    "print '\\nMinimum Age\\n', titanic_df.groupby('Survived')['Age'].min()\n",
    "print '\\nMaximum Age\\n', titanic_df.groupby('Survived')['Age'].max()"
   ]
  },
  {
   "cell_type": "markdown",
   "metadata": {},
   "source": [
    "## How does economic class affect survival?\n",
    "\n",
    "Our hypothesis is that those of lower economic class will have been less likely to survive. I would also like to explore the possibility that those for whom no age was recorded were on average of a lower class than those who's ages were recorded. Class will be represented both by Pclass and Fare. (In Pclass, lower numbers mean higher class, ie 1st class, 2nd class, 3rd class.)"
   ]
  },
  {
   "cell_type": "markdown",
   "metadata": {},
   "source": [
    "### What is the likelihood of survival for each passenger class?"
   ]
  },
  {
   "cell_type": "code",
   "execution_count": 48,
   "metadata": {
    "collapsed": false
   },
   "outputs": [
    {
     "name": "stdout",
     "output_type": "stream",
     "text": [
      "Pclass\n",
      "1    0.629630\n",
      "2    0.472826\n",
      "3    0.242363\n",
      "Name: Survived, dtype: float64\n"
     ]
    }
   ],
   "source": [
    "# Taking the mean here effectively reveals the likelihood of survival for members of each passenger class.\n",
    "print titanic_df.groupby('Pclass')['Survived'].mean()"
   ]
  },
  {
   "cell_type": "markdown",
   "metadata": {},
   "source": [
    "We can see here that the results here completely fly in the face of my original suggestion that in a crisis situation economic class may have mattered less or that the positioning of upper class quarters may have compromised safety for luxury and by some strange twist of fate lower class quarters may have been better positioned to avoid drowning within the ship and to access lifeboats. Neither of these two suppositions appear to have played any factor at all as we can very clearly see that first class passengers were more likely to survive than second class passengers who were twice as likely to survive as third class passengers.\n",
    "\n",
    "It helps to see these numbers in the context of the actual number of passengers in each group."
   ]
  },
  {
   "cell_type": "code",
   "execution_count": 49,
   "metadata": {
    "collapsed": false
   },
   "outputs": [
    {
     "name": "stdout",
     "output_type": "stream",
     "text": [
      "3    491\n",
      "1    216\n",
      "2    184\n",
      "Name: Pclass, dtype: int64\n"
     ]
    }
   ],
   "source": [
    "# Find out how many passengers were in each class.\n",
    "count_pclass = titanic_df['Pclass'].value_counts()\n",
    "print count_pclass"
   ]
  },
  {
   "cell_type": "code",
   "execution_count": 50,
   "metadata": {
    "collapsed": false
   },
   "outputs": [
    {
     "name": "stdout",
     "output_type": "stream",
     "text": [
      "1    216\n",
      "2    184\n",
      "3    491\n",
      "Name: Pclass, dtype: int64\n"
     ]
    }
   ],
   "source": [
    "# Re-order the count_pclass series so that the indexes are in the proper order\n",
    "count_pclass.sort_index(inplace=True)\n",
    "print count_pclass"
   ]
  },
  {
   "cell_type": "code",
   "execution_count": 51,
   "metadata": {
    "collapsed": false
   },
   "outputs": [
    {
     "data": {
      "text/plain": [
       "Pclass\n",
       "1    136\n",
       "2     87\n",
       "3    119\n",
       "Name: Survived, dtype: int64"
      ]
     },
     "execution_count": 51,
     "metadata": {},
     "output_type": "execute_result"
    }
   ],
   "source": [
    "#Make sure the series containing the total survivors will also have properly ordered indices\n",
    "titanic_df.groupby('Pclass')['Survived'].sum()"
   ]
  },
  {
   "cell_type": "markdown",
   "metadata": {},
   "source": [
    "### Visualizations\n",
    "\n",
    "Here is a bar graph showing total passengers (yellow) and survivors (blue) in each class (1, 2, 3).\n",
    "\n",
    "We can see here that despite there being over twice as many third class passengers as first class passengers, still more first class passengers survived than third class passengers."
   ]
  },
  {
   "cell_type": "code",
   "execution_count": 52,
   "metadata": {
    "collapsed": false
   },
   "outputs": [
    {
     "data": {
      "text/plain": [
       "<matplotlib.axes._subplots.AxesSubplot at 0x11f0cc590>"
      ]
     },
     "execution_count": 52,
     "metadata": {},
     "output_type": "execute_result"
    },
    {
     "data": {
      "image/png": "[encoded data removed]",
      "text/plain": [
       "<matplotlib.figure.Figure at 0x11f08cd90>"
      ]
     },
     "metadata": {},
     "output_type": "display_data"
    }
   ],
   "source": [
    "# Plot both the total passengers in each class against the total survivors from each class\n",
    "count_pclass.plot(kind='bar', color='y',title='Survivors by Passenger Class').set_ylabel('Passenger Count - Yellow, Survivor Count - Blue')\n",
    "titanic_df.groupby('Pclass')['Survived'].sum().plot(kind='bar')"
   ]
  },
  {
   "cell_type": "markdown",
   "metadata": {},
   "source": [
    "Next is a histogram showing the distribution of passengers along what fare they paid."
   ]
  },
  {
   "cell_type": "code",
   "execution_count": 54,
   "metadata": {
    "collapsed": false
   },
   "outputs": [
    {
     "data": {
      "text/plain": [
       "<matplotlib.text.Text at 0x11e5197d0>"
      ]
     },
     "execution_count": 54,
     "metadata": {},
     "output_type": "execute_result"
    },
    {
     "data": {
      "image/png": "[encoded data removed]",
      "text/plain": [
       "<matplotlib.figure.Figure at 0x11f01fcd0>"
      ]
     },
     "metadata": {},
     "output_type": "display_data"
    }
   ],
   "source": [
    "age_hist = titanic_df['Fare'].hist()\n",
    "age_hist.set_ylabel('Number of Passengers')\n",
    "age_hist.set_xlabel('Fare')\n",
    "age_hist.set_title('Passengers at each Fare')"
   ]
  },
  {
   "cell_type": "markdown",
   "metadata": {},
   "source": [
    "Below is a box plot of logarithmically adjusted fare paid by those who survived and by those who died. Those who survived had typically paid a higher fare."
   ]
  },
  {
   "cell_type": "code",
   "execution_count": 55,
   "metadata": {
    "collapsed": false
   },
   "outputs": [
    {
     "data": {
      "image/png": "[encoded data removed]",
      "text/plain": [
       "<matplotlib.figure.Figure at 0x11ec0fd90>"
      ]
     },
     "metadata": {},
     "output_type": "display_data"
    }
   ],
   "source": [
    "titanic_df.boxplot(column = ['Fare'], by = ['Survived']).set_yscale('log')"
   ]
  },
  {
   "cell_type": "markdown",
   "metadata": {},
   "source": [
    "Below is a scatterplot comparing the age of passengers to the fare they paid. There are no obvious trends except that most of the higher fares were paid by passengers between 20 and 60."
   ]
  },
  {
   "cell_type": "code",
   "execution_count": 56,
   "metadata": {
    "collapsed": false,
    "scrolled": true
   },
   "outputs": [
    {
     "data": {
      "text/plain": [
       "<matplotlib.axes._subplots.AxesSubplot at 0x11f8dd590>"
      ]
     },
     "execution_count": 56,
     "metadata": {},
     "output_type": "execute_result"
    },
    {
     "data": {
      "image/png": "[encoded data removed]",
      "text/plain": [
       "<matplotlib.figure.Figure at 0x11edcba10>"
      ]
     },
     "metadata": {},
     "output_type": "display_data"
    }
   ],
   "source": [
    "titanic_df.plot(kind = 'scatter', x = 'Age', y = 'Fare', title = 'Fare vs. Age')"
   ]
  },
  {
   "cell_type": "markdown",
   "metadata": {},
   "source": [
    "The following boxplot compares logarithmically adjusted fare to passenger class. This reveals the obvious trend that first class tickets are the most expensive, then second class, then third class."
   ]
  },
  {
   "cell_type": "code",
   "execution_count": 57,
   "metadata": {
    "collapsed": false
   },
   "outputs": [
    {
     "data": {
      "image/png": "[encoded data removed]",
      "text/plain": [
       "<matplotlib.figure.Figure at 0x11f9162d0>"
      ]
     },
     "metadata": {},
     "output_type": "display_data"
    }
   ],
   "source": [
    "titanic_df.boxplot(column = ['Fare'], by = ['Pclass']).set_yscale('log')"
   ]
  },
  {
   "cell_type": "markdown",
   "metadata": {},
   "source": [
    "### Descriptive Statistics Regarding Fare and Survival\n",
    "Yet more evidence that those of a higher socioeconomic status were more likely to survive the ordeal aboard the Titanic. Both the mean, median and maximum fare of survivors were roughly twice those of casualties. "
   ]
  },
  {
   "cell_type": "code",
   "execution_count": 58,
   "metadata": {
    "collapsed": false
   },
   "outputs": [
    {
     "name": "stdout",
     "output_type": "stream",
     "text": [
      "Average Fare\n",
      "Survived\n",
      "0    22.117887\n",
      "1    48.395408\n",
      "Name: Fare, dtype: float64\n",
      "\n",
      "Median Fare\n",
      "Survived\n",
      "0    10.5\n",
      "1    26.0\n",
      "Name: Fare, dtype: float64\n",
      "\n",
      "Standard Deviation\n",
      "Survived\n",
      "0    31.388207\n",
      "1    66.596998\n",
      "Name: Fare, dtype: float64\n",
      "\n",
      "Minimum Fare\n",
      "Survived\n",
      "0    0.0\n",
      "1    0.0\n",
      "Name: Fare, dtype: float64\n",
      "\n",
      "Maximum Fare\n",
      "Survived\n",
      "0    263.0000\n",
      "1    512.3292\n",
      "Name: Fare, dtype: float64\n"
     ]
    }
   ],
   "source": [
    "print 'Average Fare\\n', titanic_df.groupby('Survived')['Fare'].mean()\n",
    "print '\\nMedian Fare\\n', titanic_df.groupby('Survived')['Fare'].median()\n",
    "print '\\nStandard Deviation\\n', titanic_df.groupby('Survived')['Fare'].std()\n",
    "print '\\nMinimum Fare\\n', titanic_df.groupby('Survived')['Fare'].min()\n",
    "print '\\nMaximum Fare\\n', titanic_df.groupby('Survived')['Fare'].max()"
   ]
  },
  {
   "cell_type": "markdown",
   "metadata": {},
   "source": [
    "### The Question of the Ageless Passengers\n",
    "Were passengers with no recorded age more likely to have been of lower class? First we must differentiate between those passengers who have an age and those who do not. We will do this with a new column."
   ]
  },
  {
   "cell_type": "code",
   "execution_count": 59,
   "metadata": {
    "collapsed": false
   },
   "outputs": [
    {
     "data": {
      "text/html": [
       "<div>\n",
       "<table border=\"1\" class=\"dataframe\">\n",
       "  <thead>\n",
       "    <tr style=\"text-align: right;\">\n",
       "      <th></th>\n",
       "      <th>PassengerId</th>\n",
       "      <th>Survived</th>\n",
       "      <th>Pclass</th>\n",
       "      <th>Sex</th>\n",
       "      <th>Age</th>\n",
       "      <th>Fare</th>\n",
       "      <th>AgeGroup</th>\n",
       "      <th>HasAge</th>\n",
       "    </tr>\n",
       "  </thead>\n",
       "  <tbody>\n",
       "    <tr>\n",
       "      <th>0</th>\n",
       "      <td>1</td>\n",
       "      <td>0</td>\n",
       "      <td>3</td>\n",
       "      <td>male</td>\n",
       "      <td>22.0</td>\n",
       "      <td>7.2500</td>\n",
       "      <td>5. Adult (19-60)</td>\n",
       "      <td>Has Age</td>\n",
       "    </tr>\n",
       "    <tr>\n",
       "      <th>1</th>\n",
       "      <td>2</td>\n",
       "      <td>1</td>\n",
       "      <td>1</td>\n",
       "      <td>female</td>\n",
       "      <td>38.0</td>\n",
       "      <td>71.2833</td>\n",
       "      <td>5. Adult (19-60)</td>\n",
       "      <td>Has Age</td>\n",
       "    </tr>\n",
       "    <tr>\n",
       "      <th>2</th>\n",
       "      <td>3</td>\n",
       "      <td>1</td>\n",
       "      <td>3</td>\n",
       "      <td>female</td>\n",
       "      <td>26.0</td>\n",
       "      <td>7.9250</td>\n",
       "      <td>5. Adult (19-60)</td>\n",
       "      <td>Has Age</td>\n",
       "    </tr>\n",
       "    <tr>\n",
       "      <th>3</th>\n",
       "      <td>4</td>\n",
       "      <td>1</td>\n",
       "      <td>1</td>\n",
       "      <td>female</td>\n",
       "      <td>35.0</td>\n",
       "      <td>53.1000</td>\n",
       "      <td>5. Adult (19-60)</td>\n",
       "      <td>Has Age</td>\n",
       "    </tr>\n",
       "    <tr>\n",
       "      <th>4</th>\n",
       "      <td>5</td>\n",
       "      <td>0</td>\n",
       "      <td>3</td>\n",
       "      <td>male</td>\n",
       "      <td>35.0</td>\n",
       "      <td>8.0500</td>\n",
       "      <td>5. Adult (19-60)</td>\n",
       "      <td>Has Age</td>\n",
       "    </tr>\n",
       "  </tbody>\n",
       "</table>\n",
       "</div>"
      ],
      "text/plain": [
       "   PassengerId  Survived  Pclass     Sex   Age     Fare          AgeGroup  \\\n",
       "0            1         0       3    male  22.0   7.2500  5. Adult (19-60)   \n",
       "1            2         1       1  female  38.0  71.2833  5. Adult (19-60)   \n",
       "2            3         1       3  female  26.0   7.9250  5. Adult (19-60)   \n",
       "3            4         1       1  female  35.0  53.1000  5. Adult (19-60)   \n",
       "4            5         0       3    male  35.0   8.0500  5. Adult (19-60)   \n",
       "\n",
       "    HasAge  \n",
       "0  Has Age  \n",
       "1  Has Age  \n",
       "2  Has Age  \n",
       "3  Has Age  \n",
       "4  Has Age  "
      ]
     },
     "metadata": {},
     "output_type": "display_data"
    }
   ],
   "source": [
    "#Create a new HasAge column\n",
    "import math\n",
    "\n",
    "def has_age(age):\n",
    "    if math.isnan(age):\n",
    "        return 'No Age'\n",
    "    else:\n",
    "        return 'Has Age'\n",
    "\n",
    "titanic_df['HasAge'] = titanic_df['Age'].apply(has_age)\n",
    "\n",
    "display(titanic_df.head())"
   ]
  },
  {
   "cell_type": "code",
   "execution_count": 60,
   "metadata": {
    "collapsed": false
   },
   "outputs": [
    {
     "name": "stdout",
     "output_type": "stream",
     "text": [
      "Has Age    714\n",
      "No Age     177\n",
      "Name: HasAge, dtype: int64\n"
     ]
    }
   ],
   "source": [
    "# We see below that there are as many passengers with No Age as there were passengers with No Age Reported in AgeGroup\n",
    "# (177). This suggests that our new column works as we predicted.\n",
    "print titanic_df['HasAge'].value_counts()"
   ]
  },
  {
   "cell_type": "code",
   "execution_count": 61,
   "metadata": {
    "collapsed": false
   },
   "outputs": [
    {
     "name": "stdout",
     "output_type": "stream",
     "text": [
      "HasAge   Pclass\n",
      "Has Age  3         355\n",
      "         1         186\n",
      "         2         173\n",
      "No Age   3         136\n",
      "         1          30\n",
      "         2          11\n",
      "Name: Pclass, dtype: int64\n"
     ]
    }
   ],
   "source": [
    "#Print the number of passengers in each class for each of the Has Age vs No Age groups\n",
    "age_vs_pclass = titanic_df.groupby('HasAge')['Pclass'].value_counts()\n",
    "print age_vs_pclass"
   ]
  },
  {
   "cell_type": "code",
   "execution_count": 62,
   "metadata": {
    "collapsed": false
   },
   "outputs": [
    {
     "name": "stdout",
     "output_type": "stream",
     "text": [
      "\n",
      "Has Age\n",
      "Pclass\n",
      "1    0.260504\n",
      "2    0.242297\n",
      "3    0.497199\n",
      "Name: Pclass, dtype: float64\n",
      "\n",
      "No Age\n",
      "Pclass\n",
      "1    0.169492\n",
      "2    0.062147\n",
      "3    0.768362\n",
      "Name: Pclass, dtype: float64\n"
     ]
    }
   ],
   "source": [
    "# Find what percentage of each group Has Age vs No Age is made up of each class.\n",
    "age_vs_pclass_ha = age_vs_pclass['Has Age']\n",
    "age_vs_pclass_na = age_vs_pclass['No Age']\n",
    "\n",
    "age_vs_pclass_ha.sort_index(inplace=True)\n",
    "age_vs_pclass_na.sort_index(inplace=True)\n",
    "\n",
    "print '\\nHas Age\\n', age_vs_pclass_ha.div(714)\n",
    "print '\\nNo Age\\n', age_vs_pclass_na.div(177)"
   ]
  },
  {
   "cell_type": "markdown",
   "metadata": {},
   "source": [
    "The above code reveals that those without a recorded age were made up of 76% people from third class compared to 49% among those with a recorded age. Our hypothesis appears to have been correct."
   ]
  },
  {
   "cell_type": "markdown",
   "metadata": {},
   "source": [
    "### Visualizations\n",
    "\n",
    "Here are two bar graphs, one for Has Age, the other for No Age showing total passengers in the group--No Age vs Has Age--(yellow) and total passengers (blue) in each class (1, 2, 3).\n",
    "\n",
    "We can see here very clearly that among those without a recorded age, an overwhelming majority of them were third class."
   ]
  },
  {
   "cell_type": "code",
   "execution_count": 63,
   "metadata": {
    "collapsed": false
   },
   "outputs": [
    {
     "data": {
      "text/plain": [
       "<matplotlib.axes._subplots.AxesSubplot at 0x11f868cd0>"
      ]
     },
     "execution_count": 63,
     "metadata": {},
     "output_type": "execute_result"
    },
    {
     "data": {
      "image/png": "[encoded data removed]",
      "text/plain": [
       "<matplotlib.figure.Figure at 0x11f89a850>"
      ]
     },
     "metadata": {},
     "output_type": "display_data"
    }
   ],
   "source": [
    "# Plot both the total members of Has Age and the total members of each class in Has Age\n",
    "pd.Series([714,714,714]).plot(kind='bar', title='Economic Classes in Has Age', color='y').set_ylabel('Passenger Count - Yellow, Survivor Count - Blue')\n",
    "\n",
    "age_vs_pclass_ha.plot(kind='bar')"
   ]
  },
  {
   "cell_type": "code",
   "execution_count": 66,
   "metadata": {
    "collapsed": false
   },
   "outputs": [
    {
     "data": {
      "text/plain": [
       "<matplotlib.axes._subplots.AxesSubplot at 0x11f8a5190>"
      ]
     },
     "execution_count": 66,
     "metadata": {},
     "output_type": "execute_result"
    },
    {
     "data": {
      "image/png": "[encoded data removed]",
      "text/plain": [
       "<matplotlib.figure.Figure at 0x11f784d10>"
      ]
     },
     "metadata": {},
     "output_type": "display_data"
    }
   ],
   "source": [
    "# Plot both the total members of No Age and the total members of each class in No Age\n",
    "pd.Series([177,177,177]).plot(kind='bar', title='Economic Classes in No Age', ylim=(0,800), color='y').set_ylabel('Passenger Count - Yellow, Survivor Count - Blue')\n",
    "\n",
    "age_vs_pclass_na.plot(kind='bar')"
   ]
  },
  {
   "cell_type": "markdown",
   "metadata": {},
   "source": [
    "### Descriptive Statistics Regarding Fare and Recorded Age\n",
    "Yet more evidence that those of a lower socioeconomic status were less likely to have had a recorded age. Both the mean, median and maximum fare of those with a recorded age were greater than those without a recorded age. "
   ]
  },
  {
   "cell_type": "code",
   "execution_count": 29,
   "metadata": {
    "collapsed": false
   },
   "outputs": [
    {
     "name": "stdout",
     "output_type": "stream",
     "text": [
      "Average Fare\n",
      "HasAge\n",
      "Has Age    34.694514\n",
      "No Age     22.158567\n",
      "Name: Fare, dtype: float64\n",
      "\n",
      "Median Fare\n",
      "HasAge\n",
      "Has Age    15.7417\n",
      "No Age      8.0500\n",
      "Name: Fare, dtype: float64\n",
      "\n",
      "Standard Deviation\n",
      "HasAge\n",
      "Has Age    52.918930\n",
      "No Age     31.874608\n",
      "Name: Fare, dtype: float64\n",
      "\n",
      "Minimum Fare\n",
      "HasAge\n",
      "Has Age    0.0\n",
      "No Age     0.0\n",
      "Name: Fare, dtype: float64\n",
      "\n",
      "Maximum Fare\n",
      "HasAge\n",
      "Has Age    512.3292\n",
      "No Age     227.5250\n",
      "Name: Fare, dtype: float64\n"
     ]
    }
   ],
   "source": [
    "print 'Average Fare\\n', titanic_df.groupby('HasAge')['Fare'].mean()\n",
    "print '\\nMedian Fare\\n', titanic_df.groupby('HasAge')['Fare'].median()\n",
    "print '\\nStandard Deviation\\n', titanic_df.groupby('HasAge')['Fare'].std()\n",
    "print '\\nMinimum Fare\\n', titanic_df.groupby('HasAge')['Fare'].min()\n",
    "print '\\nMaximum Fare\\n', titanic_df.groupby('HasAge')['Fare'].max()"
   ]
  },
  {
   "cell_type": "markdown",
   "metadata": {},
   "source": [
    "## Conclusions\n",
    "At the beginning of the analysis, we asked three questions. Here are the answers we came up with\n",
    "- How does gender affect passenger survival?\n",
    "    - We discovered that women were more likely to survive the Titanic tragedy than men. In fact more than twice as many women survived as men despite there being more men aboard.\n",
    "- How does age affect passenger survival?\n",
    "    - We discovered that younger passengers, particularly infants, toddlers and children were more likely to survive the ordeal than adolescents, adults and seniors. We also discovered that despite this the average age for survivors was roughly 28 while the average age for casualties was roughly thirty (not much older). The medians were the same at 28. This suggests that among adults (the dominant group) age was less of a factor in survival.\n",
    "- How does socioeconomic class affect passenger survival?\n",
    "    - In terms of socioeconomic class we discovered that those in third class were much more likely to be casualties. Those of higher economic class were more likely to survive. In fact the fare paid by those who survived was on average double that of those who became casualties. We also noticed that among those who's ages were not known an overwhelming majority were of lower socioeconomic class.\n"
   ]
  },
  {
   "cell_type": "markdown",
   "metadata": {
    "collapsed": true
   },
   "source": [
    "The biggest shortcoming we came up against in determining what factors were most likely to determine survival was that a significant number of passengers had no recorded age. This made it more difficult to determine what impact age had on the survival of the passengers."
   ]
  }
 ],
 "metadata": {
  "anaconda-cloud": {},
  "kernelspec": {
   "display_name": "Python [Root]",
   "language": "python",
   "name": "Python [Root]"
  },
  "language_info": {
   "codemirror_mode": {
    "name": "ipython",
    "version": 2
   },
   "file_extension": ".py",
   "mimetype": "text/x-python",
   "name": "python",
   "nbconvert_exporter": "python",
   "pygments_lexer": "ipython2",
   "version": "2.7.12"
  }
 },
 "nbformat": 4,
 "nbformat_minor": 0
}
